{
 "cells": [
  {
   "cell_type": "markdown",
   "metadata": {},
   "source": [
    "This exercise will require you to pull some data from the Qunadl API. Qaundl is currently the most widely used aggregator of financial market data."
   ]
  },
  {
   "cell_type": "markdown",
   "metadata": {},
   "source": [
    "As a first step, you will need to register a free account on the http://www.quandl.com website."
   ]
  },
  {
   "cell_type": "markdown",
   "metadata": {},
   "source": [
    "After you register, you will be provided with a unique API key, that you should store:"
   ]
  },
  {
   "cell_type": "code",
   "execution_count": null,
   "metadata": {},
   "outputs": [],
   "source": [
    "# Store the API key as a string - according to PEP8, constants are always named in all upper case\n",
    "API_KEY = 'rrqSvs1Qbb9xebiNoM-f'"
   ]
  },
  {
   "cell_type": "markdown",
   "metadata": {},
   "source": [
    "Qaundl has a large number of data sources, but, unfortunately, most of them require a Premium subscription. Still, there are also a good number of free datasets."
   ]
  },
  {
   "cell_type": "markdown",
   "metadata": {},
   "source": [
    "For this mini project, we will focus on equities data from the Frankfurt Stock Exhange (FSE), which is available for free. We'll try and analyze the stock prices of a company called Carl Zeiss Meditec, which manufactures tools for eye examinations, as well as medical lasers for laser eye surgery: https://www.zeiss.com/meditec/int/home.html. The company is listed under the stock ticker AFX_X."
   ]
  },
  {
   "cell_type": "markdown",
   "metadata": {},
   "source": [
    "You can find the detailed Quandl API instructions here: https://docs.quandl.com/docs/time-series"
   ]
  },
  {
   "cell_type": "markdown",
   "metadata": {},
   "source": [
    "While there is a dedicated Python package for connecting to the Quandl API, we would prefer that you use the *requests* package, which can be easily downloaded using *pip* or *conda*. You can find the documentation for the package here: http://docs.python-requests.org/en/master/ "
   ]
  },
  {
   "cell_type": "markdown",
   "metadata": {},
   "source": [
    "Finally, apart from the *requests* package, you are encouraged to not use any third party Python packages, such as *pandas*, and instead focus on what's available in the Python Standard Library (the *collections* module might come in handy: https://pymotw.com/3/collections/).\n",
    "Also, since you won't have access to DataFrames, you are encouraged to us Python's native data structures - preferably dictionaries, though some questions can also be answered using lists.\n",
    "You can read more on these data structures here: https://docs.python.org/3/tutorial/datastructures.html"
   ]
  },
  {
   "cell_type": "markdown",
   "metadata": {},
   "source": [
    "Keep in mind that the JSON responses you will be getting from the API map almost one-to-one to Python's dictionaries. Unfortunately, they can be very nested, so make sure you read up on indexing dictionaries in the documentation provided above."
   ]
  },
  {
   "cell_type": "code",
   "execution_count": null,
   "metadata": {},
   "outputs": [],
   "source": [
    "# First, import the relevant modules\n",
    "import requests\n",
    "import json"
   ]
  },
  {
   "cell_type": "code",
   "execution_count": null,
   "metadata": {},
   "outputs": [],
   "source": [
    "# Now, call the Quandl API and pull out a small sample of the data (only one day) to get a glimpse\n",
    "# into the JSON structure that will be returned\n",
    "\n",
    "payload = {'start_date': '2020-11-02', 'end_date': '2020-11-03'}\n",
    "r = requests.get('https://www.quandl.com/api/v3/datasets/FSE/AFX_X/data.json?api_key=' + API_KEY, params=payload)"
   ]
  },
  {
   "cell_type": "code",
   "execution_count": null,
   "metadata": {},
   "outputs": [],
   "source": [
    "# Inspect the JSON structure of the object you created, and take note of how nested it is,\n",
    "# as well as the overall structure\n",
    "r.text"
   ]
  },
  {
   "cell_type": "markdown",
   "metadata": {},
   "source": [
    "These are your tasks for this mini project:\n",
    "\n",
    "1. Collect data from the Franfurt Stock Exchange, for the ticker AFX_X, for the whole year 2017 (keep in mind that the date format is YYYY-MM-DD).\n",
    "2. Convert the returned JSON object into a Python dictionary.\n",
    "3. Calculate what the highest and lowest opening prices were for the stock in this period.\n",
    "4. What was the largest change in any one day (based on High and Low price)?\n",
    "5. What was the largest change between any two days (based on Closing Price)?\n",
    "6. What was the average daily trading volume during this year?\n",
    "7. (Optional) What was the median trading volume during this year. (Note: you may need to implement your own function for calculating the median.)"
   ]
  },
  {
   "cell_type": "code",
   "execution_count": 1,
   "metadata": {},
   "outputs": [
    {
     "name": "stdout",
     "output_type": "stream",
     "text": [
      "Highest Open: 53.11\n",
      "Lowest Open: 34.0\n",
      "Largest Day Change: 2.81\n",
      "Largest 2-Day Change: 2.56\n",
      "Average daily Trading Volume: 89124.34\n",
      "Median daily Trading Volume: 76286.0\n"
     ]
    }
   ],
   "source": [
    "import requests\n",
    "import json\n",
    "\n",
    "#GET TIME SERIES INTO A DICTIONARY\n",
    "API_KEY = 'rrqSvs1Qbb9xebiNoM-f'\n",
    "\n",
    "payload = {'start_date': '2017-01-01', 'end_date': '2017-12-31'}\n",
    "\n",
    "r = requests.get(\n",
    "        'https://www.quandl.com/api/v3/datasets/FSE/AFX_X/data.json?api_key=' \n",
    "        + API_KEY, params=payload)\n",
    "\n",
    "AFX = json.loads(r.text)\n",
    "\n",
    "#INDEX DICTIONARY TO BE USED TO CALL DATA FROM DICTIONARY\n",
    "idx = dict(zip(\n",
    "        AFX['dataset_data']['column_names'],\n",
    "        [i for i in range(0,len(AFX['dataset_data']['column_names']))] )) \n",
    "\n",
    "#INITIALIZING LOOP VARIABLES\n",
    "max_open = 0\n",
    "min_open = 10000\n",
    "max_oneday_delta = 0\n",
    "max_twoday_delta = 0\n",
    "trade_volume = []\n",
    "last_closing_price = AFX['dataset_data']['data'][0][idx['Close']]\n",
    "\n",
    "#LOOPING THROUGH THE DATA\n",
    "for row in AFX['dataset_data']['data']: \n",
    "    if row[idx['Open']] != None:\n",
    "        max_open = max(max_open,row[idx['Open']])\n",
    "        min_open = min(min_open,row[idx['Open']])\n",
    "        \n",
    "    if (row[idx['Low']] != None)*(row[idx['Low']] != None):\n",
    "        max_oneday_delta = max(\n",
    "                            max_oneday_delta,\n",
    "                            row[idx['High']] - row[idx['Low']])\n",
    "        \n",
    "    if row[idx['Traded Volume']] != None:\n",
    "        trade_volume.append(row[idx['Traded Volume']])\n",
    "        \n",
    "    max_twoday_delta = max(\n",
    "                        max_twoday_delta,\n",
    "                        abs(row[idx['Close']] - last_closing_price))\n",
    "    \n",
    "    last_closing_price = row[idx['Close']]\n",
    "\n",
    "#COMPUTING DESCRIPTIVE STATICTICS ON TRADE VOLUME\n",
    "\n",
    "mean_tvol = sum(trade_volume) / len(trade_volume)\n",
    "\n",
    "trade_volume.sort()\n",
    "\n",
    "median_tvol = trade_volume[int(len(trade_volume) / 2)]\n",
    "\n",
    "print('Highest Open: ' + str(max_open))\n",
    "print('Lowest Open: ' + str(min_open))\n",
    "print('Largest Day Change: ' + str(round(max_oneday_delta,2)))\n",
    "print('Largest 2-Day Change: ' + str(round(max_twoday_delta,2)))\n",
    "print('Average daily Trading Volume: ' + str(round(mean_tvol,2)))\n",
    "print('Median daily Trading Volume: ' + str(round(median_tvol,2)))"
   ]
  },
  {
   "cell_type": "code",
   "execution_count": null,
   "metadata": {},
   "outputs": [],
   "source": []
  },
  {
   "cell_type": "code",
   "execution_count": null,
   "metadata": {},
   "outputs": [],
   "source": []
  },
  {
   "cell_type": "code",
   "execution_count": null,
   "metadata": {},
   "outputs": [],
   "source": []
  }
 ],
 "metadata": {
  "kernelspec": {
   "display_name": "Python 3",
   "language": "python",
   "name": "python3"
  },
  "language_info": {
   "codemirror_mode": {
    "name": "ipython",
    "version": 3
   },
   "file_extension": ".py",
   "mimetype": "text/x-python",
   "name": "python",
   "nbconvert_exporter": "python",
   "pygments_lexer": "ipython3",
   "version": "3.6.7"
  }
 },
 "nbformat": 4,
 "nbformat_minor": 2
}
